{
  "nbformat": 4,
  "nbformat_minor": 0,
  "metadata": {
    "colab": {
      "provenance": [],
      "authorship_tag": "ABX9TyPztApV/PVYMkBXhxE5anOM",
      "include_colab_link": true
    },
    "kernelspec": {
      "name": "python3",
      "display_name": "Python 3"
    },
    "language_info": {
      "name": "python"
    }
  },
  "cells": [
    {
      "cell_type": "markdown",
      "metadata": {
        "id": "view-in-github",
        "colab_type": "text"
      },
      "source": [
        "<a href=\"https://colab.research.google.com/github/ortutayzoltan/PyTorchBasics/blob/main/PyTorchBasics.ipynb\" target=\"_parent\"><img src=\"https://colab.research.google.com/assets/colab-badge.svg\" alt=\"Open In Colab\"/></a>"
      ]
    },
    {
      "cell_type": "markdown",
      "source": [
        "# PyTorch Basics: A Quick Start Guide\n",
        "\n",
        "## Setup and Installation\n",
        "First, import the necessary libraries:"
      ],
      "metadata": {
        "id": "0b_Huvp-q8Rw"
      }
    },
    {
      "cell_type": "code",
      "source": [
        "import torch\n",
        "import torch.nn as nn\n",
        "import torch.optim as optim\n",
        "import numpy as np"
      ],
      "metadata": {
        "id": "rb695E1JrJ0A"
      },
      "execution_count": null,
      "outputs": []
    },
    {
      "cell_type": "markdown",
      "source": [],
      "metadata": {
        "id": "28jbdyUPrQ8k"
      }
    },
    {
      "cell_type": "markdown",
      "source": [
        "## Tensors: The Building Blocks\n",
        "Tensors are the fundamental data structure in PyTorch, similar to NumPy arrays but with GPU support."
      ],
      "metadata": {
        "id": "5tvVXe4WrSqJ"
      }
    },
    {
      "cell_type": "code",
      "source": [
        "# Creating tensors\n",
        "x = torch.tensor([1, 2, 3])\n",
        "print(f\"1D tensor: {x}\")\n",
        "\n",
        "# Create a 2D tensor (matrix)\n",
        "matrix = torch.tensor([[1, 2], [3, 4]])\n",
        "print(f\"2D tensor:\\n{matrix}\")\n",
        "\n",
        "# Create tensors with specific data types\n",
        "float_tensor = torch.tensor([1.0, 2.0, 3.0], dtype=torch.float32)\n",
        "print(f\"Float tensor: {float_tensor}\")\n",
        "\n",
        "# Create tensors with specific shapes\n",
        "zeros = torch.zeros(2, 3)  # 2x3 tensor of zeros\n",
        "ones = torch.ones(2, 3)    # 2x3 tensor of ones\n",
        "print(f\"Zeros:\\n{zeros}\")\n",
        "print(f\"Ones:\\n{ones}\")"
      ],
      "metadata": {
        "id": "p2dxRwscrTZ8",
        "outputId": "195459ef-da13-43f6-c0fa-86c4d4ef2c91",
        "colab": {
          "base_uri": "https://localhost:8080/"
        }
      },
      "execution_count": null,
      "outputs": [
        {
          "output_type": "stream",
          "name": "stdout",
          "text": [
            "1D tensor: tensor([1, 2, 3])\n",
            "2D tensor:\n",
            "tensor([[1, 2],\n",
            "        [3, 4]])\n",
            "Float tensor: tensor([1., 2., 3.])\n",
            "Zeros:\n",
            "tensor([[0., 0., 0.],\n",
            "        [0., 0., 0.]])\n",
            "Ones:\n",
            "tensor([[1., 1., 1.],\n",
            "        [1., 1., 1.]])\n"
          ]
        }
      ]
    },
    {
      "cell_type": "markdown",
      "source": [
        "## Basic Operations\n"
      ],
      "metadata": {
        "id": "4HluOO7srbMc"
      }
    },
    {
      "cell_type": "code",
      "source": [
        "# Arithmetic operations\n",
        "a = torch.tensor([1, 2, 3])\n",
        "b = torch.tensor([4, 5, 6])\n",
        "\n",
        "print(f\"Addition: {a + b}\")\n",
        "print(f\"Multiplication: {a * b}\")  # Element-wise multiplication\n",
        "print(f\"Matrix multiplication: {torch.matmul(a, b)}\")  # Dot product\n",
        "\n",
        "# Reshaping tensors\n",
        "c = torch.tensor([1, 2, 3, 4, 5, 6])\n",
        "reshaped = c.reshape(2, 3)\n",
        "print(f\"Reshaped tensor:\\n{reshaped}\")\n",
        "\n",
        "# Indexing and slicing\n",
        "print(f\"First row: {reshaped[0]}\")\n",
        "print(f\"First column: {reshaped[:, 0]}\")"
      ],
      "metadata": {
        "id": "dGNbTg6arfOZ",
        "outputId": "41772891-2c76-4f0b-8851-c4b3f36ad342",
        "colab": {
          "base_uri": "https://localhost:8080/"
        }
      },
      "execution_count": null,
      "outputs": [
        {
          "output_type": "stream",
          "name": "stdout",
          "text": [
            "Addition: tensor([5, 7, 9])\n",
            "Multiplication: tensor([ 4, 10, 18])\n",
            "Matrix multiplication: 32\n",
            "Reshaped tensor:\n",
            "tensor([[1, 2, 3],\n",
            "        [4, 5, 6]])\n",
            "First row: tensor([1, 2, 3])\n",
            "First column: tensor([1, 4])\n"
          ]
        }
      ]
    },
    {
      "cell_type": "markdown",
      "source": [
        "## Neural Network Basics\n",
        "Here's a simple neural network example:"
      ],
      "metadata": {
        "id": "TsJNF9HPrrht"
      }
    },
    {
      "cell_type": "code",
      "source": [
        "# Define a simple neural network\n",
        "class SimpleNN(nn.Module):\n",
        "    def __init__(self):\n",
        "        super(SimpleNN, self).__init__()\n",
        "        self.linear1 = nn.Linear(2, 4)  # 2 inputs, 4 hidden units\n",
        "        self.relu = nn.ReLU()\n",
        "        self.linear2 = nn.Linear(4, 1)  # 4 hidden units, 1 output\n",
        "\n",
        "    def forward(self, x):\n",
        "        x = self.linear1(x)\n",
        "        x = self.relu(x)\n",
        "        x = self.linear2(x)\n",
        "        return x\n",
        "\n",
        "# Create model instance\n",
        "model = SimpleNN()\n",
        "print(f\"Model structure:\\n{model}\")"
      ],
      "metadata": {
        "id": "HiWKvReKrj89",
        "outputId": "1a5b9704-0cd7-48aa-da69-4877cec8dd4c",
        "colab": {
          "base_uri": "https://localhost:8080/"
        }
      },
      "execution_count": null,
      "outputs": [
        {
          "output_type": "stream",
          "name": "stdout",
          "text": [
            "Model structure:\n",
            "SimpleNN(\n",
            "  (linear1): Linear(in_features=2, out_features=4, bias=True)\n",
            "  (relu): ReLU()\n",
            "  (linear2): Linear(in_features=4, out_features=1, bias=True)\n",
            ")\n"
          ]
        }
      ]
    },
    {
      "cell_type": "markdown",
      "source": [
        "## Training Loop Example\n",
        "Here's a basic training loop:"
      ],
      "metadata": {
        "id": "UqDJ1waTr0dm"
      }
    },
    {
      "cell_type": "code",
      "source": [
        "# Generate some dummy data\n",
        "X = torch.randn(100, 2)  # 100 samples, 2 features\n",
        "y = torch.sin(X[:, 0]) + torch.cos(X[:, 1]).reshape(-1, 1)  # Target values\n",
        "\n",
        "# Initialize model and optimizer\n",
        "model = SimpleNN()\n",
        "criterion = nn.MSELoss()\n",
        "optimizer = optim.SGD(model.parameters(), lr=0.01)\n",
        "\n",
        "# Training loop\n",
        "for epoch in range(100):\n",
        "    # Forward pass\n",
        "    outputs = model(X)\n",
        "    loss = criterion(outputs, y)\n",
        "\n",
        "    # Backward pass and optimization\n",
        "    optimizer.zero_grad()\n",
        "    loss.backward()\n",
        "    optimizer.step()\n",
        "\n",
        "    if (epoch + 1) % 10 == 0:\n",
        "        print(f'Epoch [{epoch+1}/100], Loss: {loss.item():.4f}')"
      ],
      "metadata": {
        "id": "sCGoXV1hrpr-",
        "outputId": "45ce6020-b838-46f7-cc92-d8251596bbc6",
        "colab": {
          "base_uri": "https://localhost:8080/"
        }
      },
      "execution_count": null,
      "outputs": [
        {
          "output_type": "stream",
          "name": "stdout",
          "text": [
            "Epoch [10/100], Loss: 0.8850\n",
            "Epoch [20/100], Loss: 0.7794\n",
            "Epoch [30/100], Loss: 0.7254\n",
            "Epoch [40/100], Loss: 0.6958\n",
            "Epoch [50/100], Loss: 0.6781\n",
            "Epoch [60/100], Loss: 0.6665\n",
            "Epoch [70/100], Loss: 0.6583\n",
            "Epoch [80/100], Loss: 0.6519\n",
            "Epoch [90/100], Loss: 0.6468\n",
            "Epoch [100/100], Loss: 0.6425\n"
          ]
        },
        {
          "output_type": "stream",
          "name": "stderr",
          "text": [
            "/usr/local/lib/python3.11/dist-packages/torch/nn/modules/loss.py:608: UserWarning: Using a target size (torch.Size([100, 100])) that is different to the input size (torch.Size([100, 1])). This will likely lead to incorrect results due to broadcasting. Please ensure they have the same size.\n",
            "  return F.mse_loss(input, target, reduction=self.reduction)\n"
          ]
        }
      ]
    },
    {
      "cell_type": "markdown",
      "source": [
        "## GPU Support\n",
        "PyTorch makes it easy to use GPU acceleration:"
      ],
      "metadata": {
        "id": "GPWCPXDKr8zl"
      }
    },
    {
      "cell_type": "code",
      "source": [
        "# Check if GPU is available\n",
        "device = torch.device(\"cuda\" if torch.cuda.is_available() else \"cpu\")\n",
        "print(f\"Using device: {device}\")\n",
        "\n",
        "# Move tensor to GPU\n",
        "if torch.cuda.is_available():\n",
        "    x = x.to(device)\n",
        "    model = model.to(device)"
      ],
      "metadata": {
        "id": "Q2FJEfUFrxs1",
        "outputId": "909bfab8-8ed2-4f15-d51c-8def3a08a146",
        "colab": {
          "base_uri": "https://localhost:8080/"
        }
      },
      "execution_count": null,
      "outputs": [
        {
          "output_type": "stream",
          "name": "stdout",
          "text": [
            "Using device: cpu\n"
          ]
        }
      ]
    },
    {
      "cell_type": "markdown",
      "source": [
        "## Saving and Loading Models\n",
        "PyTorch provides easy ways to save and load models:"
      ],
      "metadata": {
        "id": "a4OurO4ysQmu"
      }
    },
    {
      "cell_type": "code",
      "source": [
        "# Save model\n",
        "torch.save(model.state_dict(), 'model.pth')\n",
        "\n",
        "# Load model\n",
        "model = SimpleNN()\n",
        "model.load_state_dict(torch.load('model.pth'))\n",
        "model.eval()  # Set the model to evaluation mode"
      ],
      "metadata": {
        "id": "hr_Qt6pUsGpM",
        "outputId": "b71c4fdc-b461-4f58-f0ce-bf7bc4678b90",
        "colab": {
          "base_uri": "https://localhost:8080/"
        }
      },
      "execution_count": null,
      "outputs": [
        {
          "output_type": "stream",
          "name": "stderr",
          "text": [
            "<ipython-input-10-60301716931b>:6: FutureWarning: You are using `torch.load` with `weights_only=False` (the current default value), which uses the default pickle module implicitly. It is possible to construct malicious pickle data which will execute arbitrary code during unpickling (See https://github.com/pytorch/pytorch/blob/main/SECURITY.md#untrusted-models for more details). In a future release, the default value for `weights_only` will be flipped to `True`. This limits the functions that could be executed during unpickling. Arbitrary objects will no longer be allowed to be loaded via this mode unless they are explicitly allowlisted by the user via `torch.serialization.add_safe_globals`. We recommend you start setting `weights_only=True` for any use case where you don't have full control of the loaded file. Please open an issue on GitHub for any issues related to this experimental feature.\n",
            "  model.load_state_dict(torch.load('model.pth'))\n"
          ]
        },
        {
          "output_type": "execute_result",
          "data": {
            "text/plain": [
              "SimpleNN(\n",
              "  (linear1): Linear(in_features=2, out_features=4, bias=True)\n",
              "  (relu): ReLU()\n",
              "  (linear2): Linear(in_features=4, out_features=1, bias=True)\n",
              ")"
            ]
          },
          "metadata": {},
          "execution_count": 10
        }
      ]
    },
    {
      "cell_type": "markdown",
      "source": [
        "## Common Neural Network Layers\n",
        "Here are some commonly used layers in PyTorch:"
      ],
      "metadata": {
        "id": "bX0_6zLJsXT5"
      }
    },
    {
      "cell_type": "code",
      "source": [
        "# Common layer types\n",
        "conv = nn.Conv2d(in_channels=3, out_channels=16, kernel_size=3)  # Convolutional layer\n",
        "pool = nn.MaxPool2d(kernel_size=2)  # Max pooling layer\n",
        "dropout = nn.Dropout(p=0.5)  # Dropout layer\n",
        "batch_norm = nn.BatchNorm2d(16)  # Batch normalization"
      ],
      "metadata": {
        "id": "1vokjo05sTkT"
      },
      "execution_count": null,
      "outputs": []
    },
    {
      "cell_type": "code",
      "source": [],
      "metadata": {
        "id": "ipNWpCyxsc6a"
      },
      "execution_count": null,
      "outputs": []
    }
  ]
}